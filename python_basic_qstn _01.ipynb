{
 "cells": [
  {
   "cell_type": "markdown",
   "id": "8b32fc04-bc57-46d6-8403-5e522c3728a5",
   "metadata": {},
   "source": [
    "# Python Basics Theory Questions"
   ]
  },
  {
   "cell_type": "markdown",
   "id": "181560ef-1ff6-4646-bc4b-68061ad97b68",
   "metadata": {},
   "source": [
    "### Q1--What is Python, and why is it popular"
   ]
  },
  {
   "cell_type": "markdown",
   "id": "2910e7d8-576a-459e-95ee-3bd894e2a7d7",
   "metadata": {},
   "source": [
    "Python is a high-level, interpreted programming language known for its simple syntax and versatility. It supports multiple programming paradigms like procedural, object-oriented, and functional programming.\n",
    "populer for \n",
    "    1.  Easy to Learn: Simple and readable syntax.\n",
    "\t2.\tVersatile: Used in web development, data science, AI, automation, etc.\n",
    "\t3.\tExtensive Libraries: Large libraries like Pandas, NumPy, TensorFlow, and Django.\n"
   ]
  },
  {
   "cell_type": "markdown",
   "id": "38adb442-375a-42b5-b09a-4eabbf3dca6c",
   "metadata": {},
   "source": [
    "### Q2--What is an interpreter in Python"
   ]
  },
  {
   "cell_type": "markdown",
   "id": "7e4f17bd-2377-4150-989d-7ddb503b8f8a",
   "metadata": {},
   "source": [
    "An interpreter in Python is a program that executes Python code line by line."
   ]
  },
  {
   "cell_type": "markdown",
   "id": "bbab6289-1ca8-42e5-9ff0-84509200ee7c",
   "metadata": {},
   "source": [
    "### Q3--What are pre-defined keywords in Python"
   ]
  },
  {
   "cell_type": "markdown",
   "id": "a6d7653d-565d-46d9-bb21-1a99c3735b8a",
   "metadata": {},
   "source": [
    "Pre-defined keywords in Python are reserved words with special meaning, like if, else, for, while, def, and return. They cannot be used as variable names."
   ]
  },
  {
   "cell_type": "markdown",
   "id": "6ea7f957-4642-4e9e-b1c3-0509316f1cf2",
   "metadata": {},
   "source": [
    "### Q4--Can keywords be used as variable names"
   ]
  },
  {
   "cell_type": "markdown",
   "id": "32b0eeee-3383-42c0-b6ec-56236cc7c696",
   "metadata": {},
   "source": [
    "No, keywords cannot be used as variable names in Python because they are reserved for specific purposes in the language syntax."
   ]
  },
  {
   "cell_type": "markdown",
   "id": "f6387148-7d26-45f3-adce-ae4c43ff0e1f",
   "metadata": {},
   "source": [
    "### Q5--What is mutability in Python"
   ]
  },
  {
   "cell_type": "markdown",
   "id": "b988bad8-b493-4339-b1b8-ef4052317296",
   "metadata": {},
   "source": [
    "Mutability in Python refers to whether an object can be changed after it is created. it Can be modified (e.g., list, dict, set)."
   ]
  },
  {
   "cell_type": "markdown",
   "id": "b735a29b-df6e-452e-914e-80ced90a53a2",
   "metadata": {},
   "source": [
    "### Q6--Why are lists mutable, but tuples are immutable"
   ]
  },
  {
   "cell_type": "markdown",
   "id": "e45387e8-1df6-4a2c-886b-de05f140b564",
   "metadata": {},
   "source": [
    "Lists are designed for dynamic data that may change frequently (e.g., adding, removing, or updating elements).\n",
    "\n",
    "Tuples are designed for fixed data that should not change, ensuring safety and efficiency.so here not allowed to make any changes .\n"
   ]
  },
  {
   "cell_type": "markdown",
   "id": "557d2fd3-b0ca-4d79-bf58-6bc426b8aa96",
   "metadata": {},
   "source": [
    "### Q7--What is the difference between “==” and “is” operators in Python"
   ]
  },
  {
   "cell_type": "markdown",
   "id": "c622c4b9-c587-4d6b-b16e-0634ee5bb3dd",
   "metadata": {},
   "source": [
    "\"==\" is for contant comparision but \"is\" used for address comparision . "
   ]
  },
  {
   "cell_type": "markdown",
   "id": "d1038173-5804-4b9d-882b-6058192681e4",
   "metadata": {},
   "source": [
    "### Q8--What are logical operators in Python"
   ]
  },
  {
   "cell_type": "markdown",
   "id": "a244f58a-5a97-40a7-9a39-699fac46b863",
   "metadata": {},
   "source": [
    "Logical operators in Python are used to combine boolean expressions and return a True or False value based on the conditions."
   ]
  },
  {
   "cell_type": "markdown",
   "id": "7269d371-0a4e-419f-bea7-bc8bdb8060a3",
   "metadata": {},
   "source": [
    "### Q9--What is type casting in Python"
   ]
  },
  {
   "cell_type": "markdown",
   "id": "95b2a986-bb23-4424-a30e-053942384e1f",
   "metadata": {},
   "source": [
    "Type casting in Python is the process of converting one data type to another. like integer to float or string."
   ]
  },
  {
   "cell_type": "markdown",
   "id": "efbd3e35-3f82-4ab6-baea-90338d25e1d3",
   "metadata": {},
   "source": [
    "### Q10--What is the difference between implicit and explicit type casting"
   ]
  },
  {
   "cell_type": "markdown",
   "id": "1eda0a87-26b9-488b-af64-c4a532a72375",
   "metadata": {},
   "source": [
    "in implicit type casting , system automatically take its data dype by using interprater , but in explicit we have to define type when we assign."
   ]
  },
  {
   "cell_type": "markdown",
   "id": "612107e3-0c12-4d1a-b841-5d77d79fe541",
   "metadata": {},
   "source": [
    "### Q11--What is the purpose of conditional statements in Python"
   ]
  },
  {
   "cell_type": "markdown",
   "id": "2d8bc8db-9d35-4963-81c4-d7352bb98a61",
   "metadata": {},
   "source": [
    "The purpose of conditional statements is to allow the program to make decisions and execute specific blocks of code based on whether a condition is True or False. They enable the program to respond dynamically to different inputs or situations."
   ]
  },
  {
   "cell_type": "markdown",
   "id": "a21e3c55-87a2-4ad3-8c53-6be782b52600",
   "metadata": {},
   "source": [
    "### Q12--How does the elif statement work"
   ]
  },
  {
   "cell_type": "markdown",
   "id": "621aff40-78b6-41b1-a9b8-4b02ba1c2d6e",
   "metadata": {},
   "source": [
    "The elif statement in Python checks multiple conditions sequentially after an if. It executes the block of the first True condition, skipping the rest."
   ]
  },
  {
   "cell_type": "markdown",
   "id": "40f87876-e610-4506-9767-d9650adc50fb",
   "metadata": {},
   "source": [
    "### Q13--What is the difference between for and while loops"
   ]
  },
  {
   "cell_type": "markdown",
   "id": "3009f309-efcb-4044-9d60-22a29aaefee5",
   "metadata": {},
   "source": [
    "The for loop is used when the number of iterations is known or for iterating over a sequence (e.g., list, range, string). The while loop is used when the iterations depend on a condition being True, and the number of iterations is not predetermined."
   ]
  },
  {
   "cell_type": "markdown",
   "id": "5b6846c7-cf91-42ea-b344-8deca706217c",
   "metadata": {},
   "source": [
    "### Q14--Describe a scenario where a while loop is more suitable than a for loop"
   ]
  },
  {
   "cell_type": "markdown",
   "id": "6eab3827-4baa-424f-a4d2-3763d05b2907",
   "metadata": {},
   "source": [
    "A while loop is more suitable when the number of iterations is unknown and depends on a condition, such as reading user input until they enter a specific value or processing data until a certain threshold is met."
   ]
  }
 ],
 "metadata": {
  "kernelspec": {
   "display_name": "Python 3 (ipykernel)",
   "language": "python",
   "name": "python3"
  },
  "language_info": {
   "codemirror_mode": {
    "name": "ipython",
    "version": 3
   },
   "file_extension": ".py",
   "mimetype": "text/x-python",
   "name": "python",
   "nbconvert_exporter": "python",
   "pygments_lexer": "ipython3",
   "version": "3.12.1"
  }
 },
 "nbformat": 4,
 "nbformat_minor": 5
}
