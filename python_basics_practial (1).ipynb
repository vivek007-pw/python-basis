{
 "cells": [
  {
   "cell_type": "markdown",
   "id": "ca19fa8f-1e1c-4bc8-99a1-f41eb1140415",
   "metadata": {},
   "source": [
    "# Python Basics"
   ]
  },
  {
   "cell_type": "markdown",
   "id": "07474fdb-11f5-4da3-9c7d-7b823479b4b1",
   "metadata": {},
   "source": [
    "### Q-1--Write a Python program to print \"Hello, World!\"\n"
   ]
  },
  {
   "cell_type": "code",
   "execution_count": 2,
   "id": "dc2fd4ee-acbb-4dbc-871a-78dd24a5b00f",
   "metadata": {},
   "outputs": [
    {
     "name": "stdout",
     "output_type": "stream",
     "text": [
      "Hello, World!\n"
     ]
    }
   ],
   "source": [
    "print(\"Hello, World!\")"
   ]
  },
  {
   "cell_type": "markdown",
   "id": "e4d7c88d-9c3d-4f85-8608-c0a6aa675eed",
   "metadata": {},
   "source": [
    "### Q2--Write a Python program that displays your name and age"
   ]
  },
  {
   "cell_type": "code",
   "execution_count": 3,
   "id": "7e38d88b-89d7-43d1-9ee4-a02fa074f4a6",
   "metadata": {},
   "outputs": [
    {
     "name": "stdin",
     "output_type": "stream",
     "text": [
      "tell me your name rohit\n",
      "tell me your age 24\n"
     ]
    },
    {
     "name": "stdout",
     "output_type": "stream",
     "text": [
      "My name is: rohit\n",
      "My age is: 24\n"
     ]
    }
   ],
   "source": [
    "name = input(\"tell me your name\")\n",
    "age = input(\"tell me your age\")\n",
    "\n",
    "print(\"My name is:\", name)\n",
    "print(\"My age is:\", age)"
   ]
  },
  {
   "cell_type": "markdown",
   "id": "9ec62c41-a5ab-43db-a64a-4a70144581ec",
   "metadata": {},
   "source": [
    "### Q3--Write code to print all the pre-defined keywords in Python using the keyword library"
   ]
  },
  {
   "cell_type": "code",
   "execution_count": 4,
   "id": "fa12d173-dea3-4da0-a378-5792ea41638c",
   "metadata": {},
   "outputs": [
    {
     "name": "stdout",
     "output_type": "stream",
     "text": [
      "\n",
      "Here is a list of the Python keywords.  Enter any keyword to get more help.\n",
      "\n",
      "False               class               from                or\n",
      "None                continue            global              pass\n",
      "True                def                 if                  raise\n",
      "and                 del                 import              return\n",
      "as                  elif                in                  try\n",
      "assert              else                is                  while\n",
      "async               except              lambda              with\n",
      "await               finally             nonlocal            yield\n",
      "break               for                 not                 \n",
      "\n"
     ]
    }
   ],
   "source": [
    "help(\"keywords\")"
   ]
  },
  {
   "cell_type": "markdown",
   "id": "f8a09c73-4f0d-4427-9c6b-71e54a180a79",
   "metadata": {},
   "source": [
    "#### or 2nd Way"
   ]
  },
  {
   "cell_type": "code",
   "execution_count": 15,
   "id": "96d4e00f-87e6-47d5-a88a-14ee9243ec6c",
   "metadata": {},
   "outputs": [
    {
     "name": "stdout",
     "output_type": "stream",
     "text": [
      "Python Keywords are:\n",
      "False  ,  None  ,  True  ,  and  ,  as  ,  assert  ,  async  ,  await  ,  break  ,  class  ,  continue  ,  def  ,  del  ,  elif  ,  else  ,  except  ,  finally  ,  for  ,  from  ,  global  ,  if  ,  import  ,  in  ,  is  ,  lambda  ,  nonlocal  ,  not  ,  or  ,  pass  ,  raise  ,  return  ,  try  ,  while  ,  with  ,  yield  ,  "
     ]
    }
   ],
   "source": [
    "import keyword\n",
    "keywords_list = keyword.kwlist\n",
    "print(\"Python Keywords are:\")\n",
    "for elmt in keywords_list:\n",
    "    print(elmt,end=\"  ,  \")"
   ]
  },
  {
   "cell_type": "markdown",
   "id": "a5af857b-4ab4-4e54-acb3-554bb4bb3c41",
   "metadata": {},
   "source": [
    "### Q4-- Write a program that checks if a given word is a Python keyword"
   ]
  },
  {
   "cell_type": "code",
   "execution_count": 19,
   "id": "b581b7e6-3521-4b56-bd14-424e79cfa6fb",
   "metadata": {},
   "outputs": [
    {
     "name": "stdin",
     "output_type": "stream",
     "text": [
      "Enter a word to check if it is a Python keyword:  True\n"
     ]
    },
    {
     "name": "stdout",
     "output_type": "stream",
     "text": [
      "True is a Python keyword.\n"
     ]
    }
   ],
   "source": [
    "import keyword\n",
    "\n",
    "word = input(\"Enter a word to check if it is a Python keyword: \")\n",
    "\n",
    "if keyword.iskeyword(word):\n",
    "    print(word,\"is a Python keyword.\")\n",
    "else:\n",
    "    print(word,\"is NOT a Python keyword.\")"
   ]
  },
  {
   "cell_type": "markdown",
   "id": "be0bf46a-f282-4ed1-a9fd-f470bca047ee",
   "metadata": {},
   "source": [
    "### Q5--Create a list and tuple in Python, and demonstrate how attempting to change an element works differently for each"
   ]
  },
  {
   "cell_type": "code",
   "execution_count": 22,
   "id": "157553c4-cdc9-4008-934a-7ff14b1a6e2c",
   "metadata": {},
   "outputs": [
    {
     "name": "stdout",
     "output_type": "stream",
     "text": [
      "old List: [1, 2, 3, 4]\n",
      "New List: [1, 99, 3, 4]\n",
      "Old Tuple: (1, 2, 3, 4)\n"
     ]
    },
    {
     "ename": "TypeError",
     "evalue": "'tuple' object does not support item assignment",
     "output_type": "error",
     "traceback": [
      "\u001b[0;31m---------------------------------------------------------------------------\u001b[0m",
      "\u001b[0;31mTypeError\u001b[0m                                 Traceback (most recent call last)",
      "Cell \u001b[0;32mIn[22], line 12\u001b[0m\n\u001b[1;32m      6\u001b[0m \u001b[38;5;28mprint\u001b[39m(\u001b[38;5;124m\"\u001b[39m\u001b[38;5;124mNew List:\u001b[39m\u001b[38;5;124m\"\u001b[39m, my_list)\n\u001b[1;32m     11\u001b[0m \u001b[38;5;28mprint\u001b[39m(\u001b[38;5;124m\"\u001b[39m\u001b[38;5;124mOld Tuple:\u001b[39m\u001b[38;5;124m\"\u001b[39m, my_tuple)\n\u001b[0;32m---> 12\u001b[0m \u001b[43mmy_tuple\u001b[49m\u001b[43m[\u001b[49m\u001b[38;5;241;43m1\u001b[39;49m\u001b[43m]\u001b[49m \u001b[38;5;241m=\u001b[39m \u001b[38;5;241m99\u001b[39m  \n\u001b[1;32m     13\u001b[0m \u001b[38;5;28mprint\u001b[39m(\u001b[38;5;124m\"\u001b[39m\u001b[38;5;124mNew Tuple:\u001b[39m\u001b[38;5;124m\"\u001b[39m, my_tuple)\n",
      "\u001b[0;31mTypeError\u001b[0m: 'tuple' object does not support item assignment"
     ]
    }
   ],
   "source": [
    "my_list = [1, 2, 3, 4]\n",
    "my_tuple = (1, 2, 3, 4)\n",
    "\n",
    "print(\"old List:\", my_list)\n",
    "my_list[1] = 99 \n",
    "print(\"New List:\", my_list)\n",
    "\n",
    "\n",
    "\n",
    "\n",
    "print(\"Old Tuple:\", my_tuple)\n",
    "my_tuple[1] = 99  \n",
    "print(\"New Tuple:\", my_tuple)\n"
   ]
  },
  {
   "cell_type": "markdown",
   "id": "d9f379c5-5246-4830-8199-c47b9c376417",
   "metadata": {},
   "source": [
    "### Q6-- Write a function to demonstrate the behavior of mutable and immutable arguments"
   ]
  },
  {
   "cell_type": "code",
   "execution_count": 23,
   "id": "9cfb2428-2264-4e34-9585-7ffc7430e774",
   "metadata": {},
   "outputs": [
    {
     "name": "stdout",
     "output_type": "stream",
     "text": [
      "Before function call: [1, 2, 3] 5\n",
      "After function call: [1, 2, 3, 99] 5\n"
     ]
    }
   ],
   "source": [
    "def demonstrate(mutable_list, immutable_int):\n",
    "    mutable_list.append(99)  # Modifing the list \n",
    "    immutable_int += 10      # Creates a new integer (immutable)\n",
    "\n",
    "# Mutable and immutable examples\n",
    "my_list = [1, 2, 3]  # Mutable\n",
    "my_int = 5           # Immutable\n",
    "\n",
    "print(\"Before function call:\", my_list, my_int)\n",
    "demonstrate(my_list, my_int)\n",
    "print(\"After function call:\", my_list, my_int)"
   ]
  },
  {
   "cell_type": "markdown",
   "id": "484ee28c-fc9d-4d04-b78f-64b9f9c32cbd",
   "metadata": {},
   "source": [
    "### Q7--Write a function to demonstrate the behavior of mutable and immutable arguments"
   ]
  },
  {
   "cell_type": "code",
   "execution_count": 25,
   "id": "985cfed8-a701-400e-b83a-84eb22cf6940",
   "metadata": {},
   "outputs": [
    {
     "name": "stdout",
     "output_type": "stream",
     "text": [
      "Before function call: [1, 2, 3] 5\n",
      "After function call: [1, 2, 3, 99] 5\n"
     ]
    }
   ],
   "source": [
    "def demonstrate(mutable_list, immutable_int):\n",
    "    mutable_list.append(99)  # Modifing the list \n",
    "    immutable_int += 10      # Creates a new integer (immutable)\n",
    "\n",
    "# Mutable and immutable examples\n",
    "my_list = [1, 2, 3]  # Mutable\n",
    "my_int = 5           # Immutable\n",
    "\n",
    "print(\"Before function call:\", my_list, my_int)\n",
    "demonstrate(my_list, my_int)\n",
    "print(\"After function call:\", my_list, my_int)"
   ]
  },
  {
   "cell_type": "markdown",
   "id": "b0dc7317-f150-4194-a01a-5dd8bbcf6f7a",
   "metadata": {},
   "source": [
    "### Q8-- Write a program to demonstrate the use of logical operators"
   ]
  },
  {
   "cell_type": "code",
   "execution_count": 26,
   "id": "68e688d9-b18b-4858-b939-3027444092fa",
   "metadata": {},
   "outputs": [
    {
     "name": "stdout",
     "output_type": "stream",
     "text": [
      "a and b: False\n",
      "a or b: True\n",
      "not a: False\n",
      "not b: True\n"
     ]
    }
   ],
   "source": [
    "\n",
    "a = True\n",
    "b = False\n",
    "\n",
    "print(\"a and b:\", a and b)  # True if both are True, else False\n",
    "\n",
    "\n",
    "print(\"a or b:\", a or b)    # True if at least one is True, else False\n",
    "\n",
    "print(\"not a:\", not a)      # Inverts the boolean value of a\n",
    "print(\"not b:\", not b)      # Inverts the boolean value of b"
   ]
  },
  {
   "cell_type": "markdown",
   "id": "26856b45-0155-47ee-a447-f9d9a82aab40",
   "metadata": {},
   "source": [
    "### Q9--Write a Python program to convert user input from string to integer, float, and boolean types"
   ]
  },
  {
   "cell_type": "code",
   "execution_count": 1,
   "id": "b9c95583-e5ae-4c1b-99c9-ca37ed9ffb5d",
   "metadata": {},
   "outputs": [
    {
     "name": "stdin",
     "output_type": "stream",
     "text": [
      "Enter a value:  33\n"
     ]
    },
    {
     "name": "stdout",
     "output_type": "stream",
     "text": [
      "Integer: 33\n",
      "Float: 33.0\n",
      "True\n"
     ]
    }
   ],
   "source": [
    "user_input = str(input(\"Enter a value: \"))\n",
    "int_value = int(user_input)        # Convert to integer\n",
    "print(f\"Integer: {int_value}\")\n",
    "\n",
    "float_value = float(user_input)    # Convert to float\n",
    "print(f\"Float: {float_value}\")\n",
    "\n",
    "\n",
    "# Convert string to boolean\n",
    "# Non-empty string will be True, empty string will be False\n",
    "print(bool(user_input))"
   ]
  },
  {
   "cell_type": "markdown",
   "id": "3c78f74e-10c8-48d4-92be-29c918e88a77",
   "metadata": {},
   "source": [
    "### Q10--Write code to demonstrate type casting with list elements"
   ]
  },
  {
   "cell_type": "code",
   "execution_count": 2,
   "id": "47e545ba-1684-46dd-b74d-54d5004b1a88",
   "metadata": {},
   "outputs": [
    {
     "name": "stdout",
     "output_type": "stream",
     "text": [
      "String to Integer: [1, 2, 3, 4]\n",
      "Integer to Float: [1.0, 2.0, 3.0, 4.0]\n",
      "Float to String: ['1.0', '2.0', '3.0', '4.0']\n",
      "Integer to Boolean: [True, True, True, True]\n"
     ]
    }
   ],
   "source": [
    "# List with string numbers\n",
    "str_list = ['1', '2', '3', '4']\n",
    "\n",
    "# 1. Convert string elements to integers\n",
    "int_list = [int(i) for i in str_list]\n",
    "print(\"String to Integer:\", int_list)\n",
    "\n",
    "# 2. Convert integers to floats\n",
    "float_list = [float(i) for i in int_list]\n",
    "print(\"Integer to Float:\", float_list)\n",
    "\n",
    "# 3. Convert floats to strings\n",
    "str_again_list = [str(i) for i in float_list]\n",
    "print(\"Float to String:\", str_again_list)\n",
    "\n",
    "# 4. Convert non-zero integers to booleans\n",
    "bool_list = [bool(i) for i in int_list]\n",
    "print(\"Integer to Boolean:\", bool_list)"
   ]
  },
  {
   "cell_type": "markdown",
   "id": "c3e3a98f-dc32-46e2-98f9-041a146d2f45",
   "metadata": {},
   "source": [
    "### Q11--Write a program that checks if a number is positive, negative, or zero"
   ]
  },
  {
   "cell_type": "code",
   "execution_count": 3,
   "id": "0a131333-3b92-4a3e-a9a2-19138121fafa",
   "metadata": {},
   "outputs": [
    {
     "name": "stdin",
     "output_type": "stream",
     "text": [
      "Enter a number:  3\n"
     ]
    },
    {
     "name": "stdout",
     "output_type": "stream",
     "text": [
      "The number is positive.\n"
     ]
    }
   ],
   "source": [
    "number = float(input(\"Enter a number: \"))\n",
    "\n",
    "if number > 0:\n",
    "    print(\"The number is positive.\")\n",
    "elif number < 0:\n",
    "    print(\"The number is negative.\")\n",
    "else:\n",
    "    print(\"The number is zero.\")"
   ]
  },
  {
   "cell_type": "markdown",
   "id": "e4b4445e-5b5f-468d-b9f8-51fed1d7e5a6",
   "metadata": {},
   "source": [
    "### Q12--Write a for loop to print numbers from 1 to 10"
   ]
  },
  {
   "cell_type": "code",
   "execution_count": 4,
   "id": "71d984d9-b362-4e4a-b139-5da4e799e620",
   "metadata": {},
   "outputs": [
    {
     "name": "stdout",
     "output_type": "stream",
     "text": [
      "1\n",
      "2\n",
      "3\n",
      "4\n",
      "5\n",
      "6\n",
      "7\n",
      "8\n",
      "9\n",
      "10\n"
     ]
    }
   ],
   "source": [
    "for i in range(1,11):\n",
    "    print(i)\n",
    "    "
   ]
  },
  {
   "cell_type": "markdown",
   "id": "802954db-b6c3-4d87-bf56-ba0ac861d2aa",
   "metadata": {},
   "source": [
    "### Q13--Write a Python program to find the sum of all even numbers between 1 and 50"
   ]
  },
  {
   "cell_type": "code",
   "execution_count": 5,
   "id": "f9466210-0f36-49ec-a42c-0ebc243ab01a",
   "metadata": {},
   "outputs": [
    {
     "name": "stdout",
     "output_type": "stream",
     "text": [
      "650\n"
     ]
    }
   ],
   "source": [
    "sum=0\n",
    "for i in range(1,51):\n",
    "    if i%2==0:\n",
    "        sum=sum+i\n",
    "print(sum)"
   ]
  },
  {
   "cell_type": "markdown",
   "id": "0b731be8-f03a-4e39-b246-2831dfeba9a8",
   "metadata": {},
   "source": [
    "### Q14--Write a program to reverse a string using a while loop"
   ]
  },
  {
   "cell_type": "code",
   "execution_count": 9,
   "id": "0374f680-1054-423c-a811-a17b3dc5fbd9",
   "metadata": {},
   "outputs": [
    {
     "name": "stdin",
     "output_type": "stream",
     "text": [
      "Enter a string:  PW_Skills\n"
     ]
    },
    {
     "name": "stdout",
     "output_type": "stream",
     "text": [
      "The reversed string is: sllikS_WP\n"
     ]
    }
   ],
   "source": [
    "original_string = input(\"Enter a string: \")\n",
    "\n",
    "reversed_string = \"\"\n",
    "index = len(original_string) - 1  \n",
    "\n",
    "while index >= 0:\n",
    "    reversed_string = reversed_string + original_string[index]\n",
    "    index = index-1  \n",
    "\n",
    "print(\"The reversed string is:\", reversed_string)"
   ]
  },
  {
   "cell_type": "markdown",
   "id": "92c2915f-593a-4e46-a09e-33d648c0d0bd",
   "metadata": {},
   "source": [
    "### Q15--Write a Python program to calculate the factorial of a number provided by the user using a while loop."
   ]
  },
  {
   "cell_type": "code",
   "execution_count": 10,
   "id": "cbe13933-ca8a-424e-aa01-ea8295deaa9f",
   "metadata": {},
   "outputs": [
    {
     "name": "stdin",
     "output_type": "stream",
     "text": [
      "Enter integer for factorial:  3\n"
     ]
    },
    {
     "name": "stdout",
     "output_type": "stream",
     "text": [
      "The factorial of 3 is: 6\n"
     ]
    }
   ],
   "source": [
    "num = int(input(\"Enter integer for factorial: \"))\n",
    "\n",
    "factorial = 1\n",
    "i = 1  \n",
    "\n",
    "if num < 0:\n",
    "    print(\"Factorial is not defined for negative numbers.\")\n",
    "elif num == 0:\n",
    "    print(\"The factorial of 0 is 1.\")\n",
    "else:\n",
    "    while i <= num:\n",
    "        factorial *= i\n",
    "        i += 1  \n",
    "    print(\"The factorial of\" ,num ,\"is:\" , factorial)\n",
    "    "
   ]
  },
  {
   "cell_type": "code",
   "execution_count": null,
   "id": "42b9fc67-5ee0-4f05-8359-549bd3f6769e",
   "metadata": {},
   "outputs": [],
   "source": []
  }
 ],
 "metadata": {
  "kernelspec": {
   "display_name": "Python 3 (ipykernel)",
   "language": "python",
   "name": "python3"
  },
  "language_info": {
   "codemirror_mode": {
    "name": "ipython",
    "version": 3
   },
   "file_extension": ".py",
   "mimetype": "text/x-python",
   "name": "python",
   "nbconvert_exporter": "python",
   "pygments_lexer": "ipython3",
   "version": "3.12.1"
  }
 },
 "nbformat": 4,
 "nbformat_minor": 5
}
